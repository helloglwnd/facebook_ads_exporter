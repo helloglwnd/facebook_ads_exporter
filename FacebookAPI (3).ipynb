{
  "nbformat": 4,
  "nbformat_minor": 0,
  "metadata": {
    "colab": {
      "name": "FacebookAPI.ipynb",
      "provenance": [],
      "collapsed_sections": []
    },
    "kernelspec": {
      "name": "python3",
      "display_name": "Python 3"
    },
    "language_info": {
      "name": "python"
    }
  },
  "cells": [
    {
      "cell_type": "code",
      "source": [
        "from facebook_business.api import FacebookAdsApi\n",
        "from facebook_business.adobjects.adaccount import AdAccount\n",
        "\n",
        "app_id = ''\n",
        "app_secret = ''\n",
        "access_token = ''\n",
        "FacebookAdsApi.init(app_id, app_secret, access_token)"
      ],
      "metadata": {
        "id": "arrQKPafhzid"
      },
      "execution_count": null,
      "outputs": []
    },
    {
      "cell_type": "code",
      "source": [
        "from facebook_business.adobjects.adcreative import AdCreative\n",
        "from facebook_business.adobjects.adpreview import AdPreview\n",
        "from facebook_business.api import FacebookAdsApi\n",
        "\n",
        "\n",
        "ad_id = ''\n",
        "\n",
        "print(AdCreative(ad_id).get_previews(\n",
        "  fields=[],\n",
        "  params={\n",
        "  'ad_format': 'DESKTOP_FEED_STANDARD',\n",
        "}\n",
        "))\n",
        "\n"
      ],
      "metadata": {
        "colab": {
          "base_uri": "https://localhost:8080/"
        },
        "id": "EXbP2LK1entK",
        "outputId": "69f9a799-b059-4cb3-ed17-547bc0852ac6"
      },
      "execution_count": null,
      "outputs": [
        {
          "output_type": "stream",
          "name": "stdout",
          "text": [
            "[<AdPreview> {\n",
            "    \"body\": \"<iframe src=\\\"https://www.facebook.com/ads/api/preview_iframe.php?d=AQKKjjMp9H2pupDDryAbPiNzvrlxsfEgoowAGUnICxlNe4tuZ_4Jrf24cWPr2HeYIMpghU1MhOb-_ewKskp4VL_CTBc6K3vO8JcfSYbqV-TJzjWkhrnCchnuWOQtElO4IFrCt8OZkf1qX0Wt2roly_IedHBNQS2u50_gTZVu1bKT-il-FaHlGmfQ2EsfoC1zBYjy7gR36dbpawJcoC4rdjAFPDq7yBr9CdNtIeJnMidiXuv2-akNMxhuFDLAMy9oPbGBKisLjolqwEs2Mj5v9mrJ8rsR0XjzR1AiBfaQJgoaQkl5oQ7X03qMsBkyGDb_VmBi1CHH0Wo8RIWmfsgng32n&amp;t=AQLmfYmGjJbUvNQO-mY\\\" width=\\\"540\\\" height=\\\"690\\\" scrolling=\\\"yes\\\" style=\\\"border: none;\\\"></iframe>\"\n",
            "}]\n"
          ]
        }
      ]
    }
  ]
}