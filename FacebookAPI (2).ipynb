{
  "nbformat": 4,
  "nbformat_minor": 0,
  "metadata": {
    "colab": {
      "name": "FacebookAPI.ipynb",
      "provenance": [],
      "collapsed_sections": []
    },
    "kernelspec": {
      "name": "python3",
      "display_name": "Python 3"
    },
    "language_info": {
      "name": "python"
    }
  },
  "cells": [
    {
      "cell_type": "code",
      "source": [
        "!pip install facebookads\n",
        "!pip install facebook_business\n"
      ],
      "metadata": {
        "colab": {
          "base_uri": "https://localhost:8080/"
        },
        "id": "21hbvAsVkmce",
        "outputId": "87c3f66c-ed73-4c2a-ad35-19841e611085",
        "collapsed": true
      },
      "execution_count": null,
      "outputs": [
        {
          "output_type": "stream",
          "name": "stdout",
          "text": [
            "Looking in indexes: https://pypi.org/simple, https://us-python.pkg.dev/colab-wheels/public/simple/\n",
            "Collecting facebookads\n",
            "  Downloading facebookads-2.11.4.tar.gz (295 kB)\n",
            "\u001b[K     |████████████████████████████████| 295 kB 5.3 MB/s \n",
            "\u001b[?25hRequirement already satisfied: requests>=2.3.0 in /usr/local/lib/python3.7/dist-packages (from facebookads) (2.23.0)\n",
            "Requirement already satisfied: six>=1.7.3 in /usr/local/lib/python3.7/dist-packages (from facebookads) (1.15.0)\n",
            "Requirement already satisfied: idna<3,>=2.5 in /usr/local/lib/python3.7/dist-packages (from requests>=2.3.0->facebookads) (2.10)\n",
            "Requirement already satisfied: chardet<4,>=3.0.2 in /usr/local/lib/python3.7/dist-packages (from requests>=2.3.0->facebookads) (3.0.4)\n",
            "Requirement already satisfied: urllib3!=1.25.0,!=1.25.1,<1.26,>=1.21.1 in /usr/local/lib/python3.7/dist-packages (from requests>=2.3.0->facebookads) (1.24.3)\n",
            "Requirement already satisfied: certifi>=2017.4.17 in /usr/local/lib/python3.7/dist-packages (from requests>=2.3.0->facebookads) (2022.6.15)\n",
            "Building wheels for collected packages: facebookads\n",
            "  Building wheel for facebookads (setup.py) ... \u001b[?25l\u001b[?25hdone\n",
            "  Created wheel for facebookads: filename=facebookads-2.11.4-py3-none-any.whl size=526273 sha256=63bb496976488a0c059747e0495c97243cf64e08beabc6cda2d5f2d97cf11c52\n",
            "  Stored in directory: /root/.cache/pip/wheels/b7/cb/af/4e615b192153e68a56bd1cc0d8fdabd39ee840c9b469e0cc3e\n",
            "Successfully built facebookads\n",
            "Installing collected packages: facebookads\n",
            "Successfully installed facebookads-2.11.4\n"
          ]
        }
      ]
    },
    {
      "cell_type": "code",
      "source": [
        "from facebook_business.api import FacebookAdsApi\n",
        "from facebook_business.adobjects.adaccount import AdAccount\n",
        "\n",
        "app_id = ''\n",
        "app_secret = ''\n",
        "access_token = ''\n",
        "FacebookAdsApi.init(app_id, app_secret, access_token)"
      ],
      "metadata": {
        "id": "arrQKPafhzid"
      },
      "execution_count": null,
      "outputs": []
    },
    {
      "cell_type": "code",
      "source": [
        "from facebook_business.adobjects.adcreative import AdCreative\n",
        "from facebook_business.adobjects.adpreview import AdPreview\n",
        "from facebook_business.api import FacebookAdsApi\n",
        "\n",
        "\n",
        "ad_id = ''\n",
        "\n",
        "print(AdCreative(ad_id).get_previews(\n",
        "  fields=[],\n",
        "  params={\n",
        "  'ad_format': 'DESKTOP_FEED_STANDARD',\n",
        "}\n",
        "))\n",
        "\n"
      ],
      "metadata": {
        "colab": {
          "base_uri": "https://localhost:8080/"
        },
        "id": "EXbP2LK1entK",
        "outputId": "69f9a799-b059-4cb3-ed17-547bc0852ac6"
      },
      "execution_count": null,
      "outputs": [
        {
          "output_type": "stream",
          "name": "stdout",
          "text": [
            "[<AdPreview> {\n",
            "    \"body\": \"<iframe src=\\\"https://www.facebook.com/ads/api/preview_iframe.php?d=AQKKjjMp9H2pupDDryAbPiNzvrlxsfEgoowAGUnICxlNe4tuZ_4Jrf24cWPr2HeYIMpghU1MhOb-_ewKskp4VL_CTBc6K3vO8JcfSYbqV-TJzjWkhrnCchnuWOQtElO4IFrCt8OZkf1qX0Wt2roly_IedHBNQS2u50_gTZVu1bKT-il-FaHlGmfQ2EsfoC1zBYjy7gR36dbpawJcoC4rdjAFPDq7yBr9CdNtIeJnMidiXuv2-akNMxhuFDLAMy9oPbGBKisLjolqwEs2Mj5v9mrJ8rsR0XjzR1AiBfaQJgoaQkl5oQ7X03qMsBkyGDb_VmBi1CHH0Wo8RIWmfsgng32n&amp;t=AQLmfYmGjJbUvNQO-mY\\\" width=\\\"540\\\" height=\\\"690\\\" scrolling=\\\"yes\\\" style=\\\"border: none;\\\"></iframe>\"\n",
            "}]\n"
          ]
        }
      ]
    }
  ]
}